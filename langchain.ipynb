{
 "cells": [
  {
   "cell_type": "code",
   "execution_count": 3,
   "metadata": {},
   "outputs": [],
   "source": [
    "# Import the Ollama class from the llms module of the langchain_community package\n",
    "from langchain_community.llms import Ollama\n",
    "\n",
    "# Create an instance of the Ollama class\n",
    "llm = Ollama(model=\"gemma:2b\")"
   ]
  },
  {
   "cell_type": "code",
   "execution_count": 7,
   "metadata": {},
   "outputs": [],
   "source": [
    "# This import is used to create a document from the text and embed it\n",
    "from langchain_community.vectorstores import FAISS, chroma\n",
    "\n",
    "# We'll use the OllamaEmbeddings class to embed the text\n",
    "from langchain_community.embeddings import OllamaEmbeddings\n",
    "\n",
    "# Create an instance of the OllamaEmbeddings class\n",
    "# modelEmb = 'mxbai-embed-large:latest'\n",
    "modelEmb = 'nomic-embed-text:latest' \n",
    "embeddings = OllamaEmbeddings(model=modelEmb)\n",
    "\n",
    "# Cargamos la base de datos vectoriales\n",
    "vector = FAISS.load_local(\"Character_FAISS_nomic\", embeddings)"
   ]
  },
  {
   "cell_type": "code",
   "execution_count": 12,
   "metadata": {},
   "outputs": [],
   "source": [
    "# Import the ChatPromptTemplate class from the prompts module of the langchain_core package\n",
    "from langchain_core.prompts import ChatPromptTemplate\n",
    "# Libraries to use the retrieval chain\n",
    "from langchain.chains.combine_documents import create_stuff_documents_chain\n",
    "\n",
    "# Create a ChatPromptTemplate instance, this is a template for a chat prompt\n",
    "prompt = ChatPromptTemplate.from_template(\"\"\"Answer the following question based only on the provided context:\n",
    "\n",
    "<context>\n",
    "{context}\n",
    "</context>\n",
    "\n",
    "Question: {input}\"\"\")\n",
    "\n",
    "# Create a retrieval chain\n",
    "document_chain = create_stuff_documents_chain(llm, prompt)"
   ]
  },
  {
   "cell_type": "code",
   "execution_count": 11,
   "metadata": {},
   "outputs": [],
   "source": [
    "# Libraries to use the retrieval chain\n",
    "from langchain.chains import create_retrieval_chain\n",
    "\n",
    "# Create a retrieval chain\n",
    "retriever = vector.as_retriever()\n",
    "retrieval_chain = create_retrieval_chain(retriever, document_chain)"
   ]
  },
  {
   "cell_type": "code",
   "execution_count": null,
   "metadata": {},
   "outputs": [],
   "source": [
    "response = retrieval_chain.invoke({\"input\": \"What are the principles of operation of The PI C37.118 interface??\"})\n",
    "print(response[\"answer\"])"
   ]
  },
  {
   "cell_type": "markdown",
   "metadata": {},
   "source": [
    "```r\n",
    "# Use the retrieval chain to invoke the model\n",
    "response = retrieval_chain.invoke({\"input\": \"What are the principles of operation of The PI C37.118 interface??\"})\n",
    "print(response[\"answer\"])\n",
    "\n",
    "According to the provided context, the principles of operation of the PI C37.118 interface are as follows:\n",
    "\n",
    "- The interface is real-time based and uses communications threads to handle data flow from the C37.118 device to the PI System.\n",
    "\n",
    "\n",
    "- The interface is designed to support multiple devices and communications protocols.\n",
    "\n",
    "\n",
    "- The interface provides multiple methods to monitor the quality of the data being provided by the C37.118 PDC / PMU.\n",
    "\n",
    "\n",
    "- The configuration of the interface is done through a configuration file written in XML format.\n",
    "\n",
    "```"
   ]
  },
  {
   "cell_type": "markdown",
   "metadata": {},
   "source": [
    "```r\n",
    "# Use the retrieval chain to invoke the model nomic\n",
    "response = retrieval_chain.invoke({\"input\": \"What are the principles of operation of The PI C37.118 interface??\"})\n",
    "print(response[\"answer\"])\n",
    "\n",
    "The provided context outlines the principles of operation for the PI C37.118 interface, which includes:\n",
    "\n",
    "- Startup Process: Configuring the interface and establishing connection to PI.\n",
    "- Data Processing: Receiving and processing data from compliant C37.118 devices.\n",
    "- Data Flow to the PI System: Sending and receiving data to and from the PI system.\n",
    "- Data Quality Indicators: Monitoring and reporting the quality of the received data.\n",
    "- Interface Robustness: Ensuring the reliability and performance of the interface.\n",
    "\n",
    "```"
   ]
  },
  {
   "cell_type": "code",
   "execution_count": null,
   "metadata": {},
   "outputs": [],
   "source": []
  }
 ],
 "metadata": {
  "kernelspec": {
   "display_name": "Python 3",
   "language": "python",
   "name": "python3"
  },
  "language_info": {
   "codemirror_mode": {
    "name": "ipython",
    "version": 3
   },
   "file_extension": ".py",
   "mimetype": "text/x-python",
   "name": "python",
   "nbconvert_exporter": "python",
   "pygments_lexer": "ipython3",
   "version": "3.11.9"
  }
 },
 "nbformat": 4,
 "nbformat_minor": 2
}
