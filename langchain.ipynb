{
 "cells": [
  {
   "cell_type": "code",
   "execution_count": null,
   "metadata": {},
   "outputs": [],
   "source": [
    "# Import the Ollama class from the llms module of the langchain_community package\n",
    "from langchain_community.llms import Ollama\n",
    "\n",
    "# Create an instance of the Ollama class\n",
    "llm = Ollama(model=\"gemma:2b\")"
   ]
  },
  {
   "cell_type": "code",
   "execution_count": 2,
   "metadata": {},
   "outputs": [
    {
     "name": "stdout",
     "output_type": "stream",
     "text": [
      "**Principles of Operation of The PI C37.118 Interface**\n",
      "\n",
      "**1. RS-232 Communication Protocol:**\n",
      "- The C37.118 uses the RS-232 serial communication protocol for data exchange.\n",
      "- The interface supports both full-duplex and half-duplex communication.\n",
      "- Data is transmitted and received in 8-bit words.\n",
      "\n",
      "**2. Register Address Space:**\n",
      "- The C37.118 has 12 general-purpose registers (GRs) and 4 input/output (I/O) registers.\n",
      "- These registers can be addressed using the Modbus RTU protocol.\n",
      "\n",
      "**3. Data Types and Formats:**\n",
      "- The C37.118 supports various data types, including:\n",
      "    - 8-bit integers\n",
      "    - 16-bit floating-point numbers\n",
      "    - 32-bit integers\n",
      "    - 64-bit floating-point numbers\n",
      "- Data can be transmitted and received in these formats.\n",
      "\n",
      "**4. Control and Addressing:**\n",
      "- The C37.118 can be controlled and addressed using the Modbus RTU protocol.\n",
      "- The address space includes:\n",
      "    - 512 unique Modbus addresses\n",
      "    - 43 input/output registers\n",
      "\n",
      "**5. Data Transfer:**\n",
      "- Data is transferred in 8-bit words.\n",
      "- The interface supports byte order (MSB first) and little-endian byte order.\n",
      "- The data is written to the registers specified by the Modbus RTU address.\n",
      "\n",
      "**6. Power-Down Mode:**\n",
      "- The C37.118 can enter a power-down mode when it is not in use.\n",
      "- In this mode, the interface is disabled and its registers are set to their initial values.\n",
      "\n",
      "**7. Diagnostics:**\n",
      "- The C37.118 provides limited diagnostics through the Modbus RTU protocol.\n",
      "- The interface can report errors, register values, and other information.\n",
      "\n",
      "**8. Software Support:**\n",
      "- Drivers and software for the C37.118 are available from various manufacturers and software vendors.\n",
      "- These tools provide configuration, monitoring, and control of the interface.\n",
      "\n",
      "**Additional Notes:**\n",
      "\n",
      "- The C37.118 is a high-performance interface that supports a wide range of data types and applications.\n",
      "- It is commonly used in industrial automation, measurement and control (M&C) systems, and data acquisition platforms.\n"
     ]
    }
   ],
   "source": [
    "# Use the instance to invoke the model\n",
    "print(llm.invoke(\"What are the principles of operation of The PI C37.118 interface??\"))"
   ]
  },
  {
   "cell_type": "code",
   "execution_count": 3,
   "metadata": {},
   "outputs": [],
   "source": [
    "# Import the ChatPromptTemplate class from the prompts module of the langchain_core package\n",
    "from langchain_core.prompts import ChatPromptTemplate\n",
    "\n",
    "# Create a ChatPromptTemplate instance, this is a template for a chat prompt\n",
    "prompt = ChatPromptTemplate.from_messages([\n",
    "    (\"system\", \"You are world class software engineer.\"),\n",
    "    (\"user\", \"{input}\")\n",
    "])"
   ]
  },
  {
   "cell_type": "code",
   "execution_count": 4,
   "metadata": {},
   "outputs": [],
   "source": [
    "# Make the instance of the Ollama class to prompt the chat prompt\n",
    "chain = prompt | llm "
   ]
  },
  {
   "cell_type": "code",
   "execution_count": 5,
   "metadata": {},
   "outputs": [],
   "source": [
    "# The StringOutputParser class is a class that parses the output of the model and returns a string\n",
    "from langchain_core.output_parsers import StrOutputParser\n",
    "\n",
    "# Create an instance of the StrOutputParser class\n",
    "output_parser = StrOutputParser()"
   ]
  },
  {
   "cell_type": "code",
   "execution_count": 6,
   "metadata": {},
   "outputs": [],
   "source": [
    "# Make the instance of the Ollama class to prompt the chat prompt and parse the output\n",
    "chain = prompt | llm | output_parser"
   ]
  },
  {
   "cell_type": "code",
   "execution_count": 9,
   "metadata": {},
   "outputs": [],
   "source": [
    "# Libraries to use the retrieval chain\n",
    "from langchain.chains.combine_documents import create_stuff_documents_chain\n",
    "\n",
    "# Create a ChatPromptTemplate instance, this is a template for a chat prompt\n",
    "prompt = ChatPromptTemplate.from_template(\"\"\"Answer the following question based only on the provided context:\n",
    "\n",
    "<context>\n",
    "{context}\n",
    "</context>\n",
    "\n",
    "Question: {input}\"\"\")\n",
    "\n",
    "# Create a retrieval chain\n",
    "document_chain = create_stuff_documents_chain(llm, prompt)"
   ]
  },
  {
   "cell_type": "code",
   "execution_count": 10,
   "metadata": {},
   "outputs": [
    {
     "name": "stdout",
     "output_type": "stream",
     "text": [
      "The context does not provide any information about the principles of operation of the PI C37.118 interface, so I cannot answer this question from the provided context.\n"
     ]
    }
   ],
   "source": [
    "# Use the retrieval chain to invoke the model\n",
    "from langchain_core.documents import Document\n",
    "\n",
    "# The document_chain instance is used to invoke the model\n",
    "print(document_chain.invoke({\n",
    "    \"input\": \"What are the principles of operation of The PI C37.118 interface?\",\n",
    "    \"context\": [Document(page_content=\"langsmith can let you visualize test results\")]\n",
    "}))"
   ]
  },
  {
   "cell_type": "code",
   "execution_count": null,
   "metadata": {},
   "outputs": [],
   "source": [
    "# This import is used to create a document from the text and embed it\n",
    "from langchain_community.vectorstores import FAISS, chroma\n",
    "\n",
    "# We'll use the OllamaEmbeddings class to embed the text\n",
    "from langchain_community.embeddings import OllamaEmbeddings\n",
    "\n",
    "# Create an instance of the OllamaEmbeddings class\n",
    "embeddings = OllamaEmbeddings(model='mxbai-embed-large:latest')\n",
    "\n",
    "# Cargamos la base de datos vectoriales\n",
    "vector = FAISS.load_local(\"Character_FAISS\", embeddings)"
   ]
  },
  {
   "cell_type": "code",
   "execution_count": 11,
   "metadata": {},
   "outputs": [],
   "source": [
    "# Libraries to use the retrieval chain\n",
    "from langchain.chains import create_retrieval_chain\n",
    "\n",
    "# Create a retrieval chain\n",
    "retriever = vector.as_retriever()\n",
    "retrieval_chain = create_retrieval_chain(retriever, document_chain)"
   ]
  },
  {
   "cell_type": "code",
   "execution_count": 12,
   "metadata": {},
   "outputs": [
    {
     "name": "stdout",
     "output_type": "stream",
     "text": [
      "The principles of operation of The PI C37.118 interface are as follows:\n",
      "\n",
      "* The interface updates the value of point [UI_SCPOINTCOUNT] each time it skips a scan.\n",
      "* The value represents the total number of skipped scans since the previous performance summary interval.\n",
      "* The interface resets the value of point [UI_SCPOINTCOUNT] to zero at each performance summary interval.\n",
      "* The interface updates a [UI_SCPOINTCOUNT] health point when it performs the associated scan.\n",
      "* The interface updates the value of point [UI_SCINDEVSCANTIME] when it reads data from the device.\n",
      "* The interface updates the value of point [UI_SCINDEVSCANTIME] when it reads data from the device.\n",
      "* The interface updates the value of point [UI_SCSKIPPED] when it performs the associated scan.\n"
     ]
    }
   ],
   "source": [
    "# Use the retrieval chain to invoke the model\n",
    "response = retrieval_chain.invoke({\"input\": \"What are the principles of operation of The PI C37.118 interface??\"})\n",
    "print(response[\"answer\"])\n"
   ]
  }
 ],
 "metadata": {
  "kernelspec": {
   "display_name": "Python 3",
   "language": "python",
   "name": "python3"
  },
  "language_info": {
   "codemirror_mode": {
    "name": "ipython",
    "version": 3
   },
   "file_extension": ".py",
   "mimetype": "text/x-python",
   "name": "python",
   "nbconvert_exporter": "python",
   "pygments_lexer": "ipython3",
   "version": "3.11.undefined"
  }
 },
 "nbformat": 4,
 "nbformat_minor": 2
}
