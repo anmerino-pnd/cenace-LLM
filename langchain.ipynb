{
 "cells": [
  {
   "cell_type": "code",
   "execution_count": 6,
   "metadata": {},
   "outputs": [],
   "source": [
    "# Import the Ollama class from the llms module of the langchain_community package\n",
    "from langchain_community.llms import Ollama\n",
    "\n",
    "# Create an instance of the Ollama class\n",
    "llm = Ollama(model=\"gemma:2b\")"
   ]
  },
  {
   "cell_type": "code",
   "execution_count": 18,
   "metadata": {},
   "outputs": [
    {
     "name": "stdout",
     "output_type": "stream",
     "text": [
      "Sure, here's a summary of the principles of operation of The PI C37.118 interface:\n",
      "\n",
      "**1. Modbus TCP/IP Communication:**\n",
      "- The interface supports Modbus TCP/IP protocol, enabling communication between a PLCs (Programmable Logic Controllers) and external devices or systems.\n",
      "- It provides a standardized interface for data exchange, allowing different devices to communicate with the PLC.\n",
      "\n",
      "**2. Data Communication:**\n",
      "- The interface supports multiple data types, including single-precision (S1), double-precision (S2), and integer (INT).\n",
      "- Each data type has its specific format and communication parameters.\n",
      "- The interface allows users to configure the data format and units for accurate data exchange.\n",
      "\n",
      "**3. Data Transfer:**\n",
      "- The interface supports data transfer in both directions (master to slave and slave to master).\n",
      "- The master sends commands and receives responses from the slave.\n",
      "- The number of data bytes transferred per transfer is determined by the data type and format.\n",
      "\n",
      "**4. Control and Data Access:**\n",
      "- The interface provides control functions for various device operations, such as setting, reading, and controlling various parameters.\n",
      "- It allows users to configure and monitor device behavior.\n",
      "- Access to data is controlled through configurable registers and memory locations.\n",
      "\n",
      "**5. Error Handling:**\n",
      "- The interface incorporates error handling mechanisms to ensure data integrity and prevent communication breakdowns.\n",
      "- It provides status flags and error codes for various conditions.\n",
      "\n",
      "**6. Security:**\n",
      "- The interface supports security mechanisms to protect against unauthorized access and data manipulation.\n",
      "- It allows configuration of authentication, authorization, and encryption settings to control access and data exchange.\n",
      "\n",
      "**7. Standards Compliance:**\n",
      "- The interface meets the requirements of the Modbus TCP/IP specification and other relevant standards.\n",
      "- This ensures compatibility with various PLCs and other automation equipment.\n",
      "\n",
      "**8. Communication Parameters:**\n",
      "- The interface typically has specific communication parameters, such as slave address, data address, and communication speed.\n",
      "- Users can configure these parameters to match the requirements of their specific equipment and application.\n",
      "\n",
      "**9. Application Programming Interface (API):**\n",
      "- The interface provides an API for users to control and monitor device operations.\n",
      "- This allows for custom applications and integrations to enhance automation processes.\n",
      "\n",
      "These principles outline the basic principles of operation of The PI C37.118 interface, enabling communication between PLCs and external devices or systems through Modbus TCP/IP protocol.\n"
     ]
    }
   ],
   "source": [
    "# Use the instance to invoke the model\n",
    "print(llm.invoke(\"What are the principles of operation of The PI C37.118 interface??\"))"
   ]
  },
  {
   "cell_type": "code",
   "execution_count": 7,
   "metadata": {},
   "outputs": [],
   "source": [
    "# Import the ChatPromptTemplate class from the prompts module of the langchain_core package\n",
    "from langchain_core.prompts import ChatPromptTemplate\n",
    "\n",
    "# Create a ChatPromptTemplate instance, this is a template for a chat prompt\n",
    "prompt = ChatPromptTemplate.from_messages([\n",
    "    (\"system\", \"You are world class software engineer.\"),\n",
    "    (\"user\", \"{input}\")\n",
    "])"
   ]
  },
  {
   "cell_type": "code",
   "execution_count": 8,
   "metadata": {},
   "outputs": [],
   "source": [
    "# Make the instance of the Ollama class to prompt the chat prompt\n",
    "chain = prompt | llm "
   ]
  },
  {
   "cell_type": "code",
   "execution_count": 9,
   "metadata": {},
   "outputs": [],
   "source": [
    "# The StringOutputParser class is a class that parses the output of the model and returns a string\n",
    "from langchain_core.output_parsers import StrOutputParser\n",
    "\n",
    "# Create an instance of the StrOutputParser class\n",
    "output_parser = StrOutputParser()"
   ]
  },
  {
   "cell_type": "code",
   "execution_count": 10,
   "metadata": {},
   "outputs": [],
   "source": [
    "# Make the instance of the Ollama class to prompt the chat prompt and parse the output\n",
    "chain = prompt | llm | output_parser"
   ]
  },
  {
   "cell_type": "code",
   "execution_count": null,
   "metadata": {},
   "outputs": [],
   "source": [
    "# We'll make use of the Retrieval Chain to retrieve the best response from the model and give context to the response\n",
    "\n",
    "# We'll read the pdf files and convert them to text\n",
    "from langchain_community.document_loaders import PyPDFLoader\n",
    "\n",
    "loader = PyPDFLoader(\"PI_C37118_1.1.0.17.pdf\")\n",
    "pages = loader.load_and_split()\n",
    "\n",
    "\n"
   ]
  },
  {
   "cell_type": "code",
   "execution_count": 12,
   "metadata": {},
   "outputs": [],
   "source": [
    "# We'll use the OllamaEmbeddings class to embed the text\n",
    "from langchain_community.embeddings import OllamaEmbeddings\n",
    "\n",
    "# Create an instance of the OllamaEmbeddings class\n",
    "embeddings = OllamaEmbeddings()"
   ]
  },
  {
   "cell_type": "code",
   "execution_count": 13,
   "metadata": {},
   "outputs": [],
   "source": [
    "# This import is used to create a document from the text and embed it\n",
    "from langchain_community.vectorstores import FAISS\n",
    "# This import is used to split the text into documents\n",
    "from langchain.text_splitter import RecursiveCharacterTextSplitter\n",
    "\n",
    "# Create an instance of the RecursiveCharacterTextSplitter class\n",
    "text_splitter = RecursiveCharacterTextSplitter()\n",
    "# Split the text into documents\n",
    "documents = text_splitter.split_documents(pages)\n",
    "# Create a vector store from the documents and embeddings\n",
    "vector = FAISS.from_documents(documents, embeddings)"
   ]
  },
  {
   "cell_type": "code",
   "execution_count": 1,
   "metadata": {},
   "outputs": [],
   "source": [
    "import os\n",
    "import pickle"
   ]
  },
  {
   "cell_type": "code",
   "execution_count": 2,
   "metadata": {},
   "outputs": [],
   "source": [
    "# Suponiendo que 'vector' es tu vector store que quieres guardar\n",
    "# Obtener la ruta absoluta del directorio actual\n",
    "current_directory = os.path.abspath(os.getcwd())\n",
    "\n",
    "# Nombre del archivo en el que deseas guardar el vector store\n",
    "file_name = \"vector_store.pkl\"\n",
    "\n",
    "# Ruta completa del archivo pickle\n",
    "file_path = os.path.join(current_directory, file_name)"
   ]
  },
  {
   "cell_type": "code",
   "execution_count": null,
   "metadata": {},
   "outputs": [],
   "source": [
    "# Guarda el vector store en un archivo\n",
    "with open(file_path, 'wb') as file:\n",
    "    pickle.dump(vector, file)"
   ]
  },
  {
   "cell_type": "code",
   "execution_count": 3,
   "metadata": {},
   "outputs": [],
   "source": [
    "# Luego, cuando necesites cargar el vector store desde el archivo:\n",
    "with open(file_path, 'rb') as file:\n",
    "    vector = pickle.load(file)"
   ]
  },
  {
   "cell_type": "code",
   "execution_count": 12,
   "metadata": {},
   "outputs": [],
   "source": [
    "# Libraries to use the retrieval chain\n",
    "from langchain.chains.combine_documents import create_stuff_documents_chain\n",
    "\n",
    "# Create a ChatPromptTemplate instance, this is a template for a chat prompt\n",
    "prompt = ChatPromptTemplate.from_template(\"\"\"Answer the following question based only on the provided context:\n",
    "\n",
    "<context>\n",
    "{context}\n",
    "</context>\n",
    "\n",
    "Question: {input}\"\"\")\n",
    "\n",
    "# Create a retrieval chain\n",
    "document_chain = create_stuff_documents_chain(llm, prompt)"
   ]
  },
  {
   "cell_type": "code",
   "execution_count": 13,
   "metadata": {},
   "outputs": [
    {
     "data": {
      "text/plain": [
       "'The context does not provide any information about the principles of operation of The PI C37.118 interface, so I cannot answer this question from the provided context.'"
      ]
     },
     "execution_count": 13,
     "metadata": {},
     "output_type": "execute_result"
    }
   ],
   "source": [
    "# Use the retrieval chain to invoke the model\n",
    "from langchain_core.documents import Document\n",
    "\n",
    "# The document_chain instance is used to invoke the model\n",
    "document_chain.invoke({\n",
    "    \"input\": \"What are the principles of operation of The PI C37.118 interface?\",\n",
    "    \"context\": [Document(page_content=\"langsmith can let you visualize test results\")]\n",
    "})"
   ]
  },
  {
   "cell_type": "code",
   "execution_count": 14,
   "metadata": {},
   "outputs": [],
   "source": [
    "# Libraries to use the retrieval chain\n",
    "from langchain.chains import create_retrieval_chain\n",
    "\n",
    "# Create a retrieval chain\n",
    "retriever = vector.as_retriever()\n",
    "retrieval_chain = create_retrieval_chain(retriever, document_chain)"
   ]
  },
  {
   "cell_type": "code",
   "execution_count": 15,
   "metadata": {},
   "outputs": [
    {
     "name": "stdout",
     "output_type": "stream",
     "text": [
      "The principles of operation of The PI C37.118 interface are as follows:\n",
      "\n",
      "1. The interface updates the value of the point each time it skips a scan.\n",
      "\n",
      "2. The interface resets the value of the point to zero at each performance summary interval.\n",
      "\n",
      "3. The interface updates a [UI_SCPOINTCOUNT] health point when it performs the associated scan.\n",
      "\n",
      "4. The interface updates the value of a point when it performs the associated scan.\n",
      "\n",
      "5. The interface updates the value of a point when it performs the associated scan.\n"
     ]
    }
   ],
   "source": [
    "# Use the retrieval chain to invoke the model\n",
    "response = retrieval_chain.invoke({\"input\": \"What are the principles of operation of The PI C37.118 interface??\"})\n",
    "print(response[\"answer\"])\n"
   ]
  }
 ],
 "metadata": {
  "kernelspec": {
   "display_name": "Python 3",
   "language": "python",
   "name": "python3"
  },
  "language_info": {
   "codemirror_mode": {
    "name": "ipython",
    "version": 3
   },
   "file_extension": ".py",
   "mimetype": "text/x-python",
   "name": "python",
   "nbconvert_exporter": "python",
   "pygments_lexer": "ipython3",
   "version": "3.11.8"
  }
 },
 "nbformat": 4,
 "nbformat_minor": 2
}
