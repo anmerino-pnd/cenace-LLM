{
 "cells": [
  {
   "cell_type": "code",
   "execution_count": 6,
   "metadata": {},
   "outputs": [],
   "source": [
    "# We'll make use of the Retrieval Chain to retrieve the best response from the model and give context to the response\n",
    "\n",
    "# We'll read the pdf files and convert them to text\n",
    "from langchain_community.document_loaders import PyPDFLoader\n",
    "\n",
    "pdf1 = PyPDFLoader('PI_C37118_1.1.0.17.pdf')\n",
    "page1 = pdf1.load_and_split()\n",
    "\n",
    "pdf2 = PyPDFLoader(\"PI-System-Explorer-2018-User-Guide_EN.pdf\")\n",
    "page2 = pdf2.load_and_split()\n",
    "pages = page1 + page2"
   ]
  },
  {
   "cell_type": "markdown",
   "metadata": {},
   "source": [
    "* Probar diferentes:\n",
    "    - text splitters\n",
    "    - bases de datos (FAISS, chromedb)"
   ]
  },
  {
   "cell_type": "code",
   "execution_count": 28,
   "metadata": {},
   "outputs": [],
   "source": [
    "# This import is used to create a document from the text and embed it\n",
    "from langchain_community.vectorstores import FAISS, chroma, Qdrant\n",
    "# This import is used to split the text into documents\n",
    "from langchain.text_splitter import CharacterTextSplitter, SpacyTextSplitter, NLTKTextSplitter \n",
    "\n",
    "# We'll use the OllamaEmbeddings class to embed the text\n",
    "from langchain_community.embeddings import OllamaEmbeddings\n",
    "\n",
    "# Create an instance of the OllamaEmbeddings class\n",
    "# modelEmb = 'mxbai-embed-large:latest'\n",
    "modelEmb = 'nomic-embed-text:latest'\n",
    "embeddings = OllamaEmbeddings(model=modelEmb) "
   ]
  },
  {
   "cell_type": "code",
   "execution_count": 29,
   "metadata": {},
   "outputs": [],
   "source": [
    "# Create an instance of the RecursiveCharacterTextSplitter class\n",
    "text_splitter = CharacterTextSplitter(chunk_size=1000, chunk_overlap=0)\n",
    "# Split the text into documents\n",
    "documents = text_splitter.split_documents(pages)"
   ]
  },
  {
   "cell_type": "code",
   "execution_count": null,
   "metadata": {},
   "outputs": [],
   "source": [
    "# Create a vector store from the documents and embeddings\n",
    "vector = Qdrant.from_documents(documents, embeddings)\n",
    "\n",
    "# Time = 33m 33.9s CharacterFAISSmxbai\n",
    "# Time = 29m 14.7s CharacterFAISSnomic"
   ]
  },
  {
   "cell_type": "code",
   "execution_count": null,
   "metadata": {},
   "outputs": [],
   "source": [
    "# Guardamos el vector store\n",
    "vector.save_local(\"Character_FAISS_nomic\")"
   ]
  },
  {
   "cell_type": "code",
   "execution_count": null,
   "metadata": {},
   "outputs": [],
   "source": []
  },
  {
   "cell_type": "code",
   "execution_count": null,
   "metadata": {},
   "outputs": [],
   "source": []
  }
 ],
 "metadata": {
  "kernelspec": {
   "display_name": "Python 3",
   "language": "python",
   "name": "python3"
  },
  "language_info": {
   "codemirror_mode": {
    "name": "ipython",
    "version": 3
   },
   "file_extension": ".py",
   "mimetype": "text/x-python",
   "name": "python",
   "nbconvert_exporter": "python",
   "pygments_lexer": "ipython3",
   "version": "3.11.9"
  }
 },
 "nbformat": 4,
 "nbformat_minor": 2
}
