{
 "cells": [
  {
   "cell_type": "code",
   "execution_count": 1,
   "metadata": {},
   "outputs": [],
   "source": [
    "# libretas\n",
    "import os\n",
    "import pickle\n",
    "import PyPDF2"
   ]
  },
  {
   "cell_type": "code",
   "execution_count": 4,
   "metadata": {},
   "outputs": [],
   "source": [
    "# Concatenate all the PDFs in the current working directory into a single PDF\n",
    "pdf1 = open('PI_C37118_1.1.0.17.pdf', 'rb')\n",
    "pdf2 = open('PI-System-Explorer-2018-User-Guide_EN.pdf', 'rb')\n",
    "\n",
    "merger = PyPDF2.PdfMerger()\n",
    "merger.append(pdf1)\n",
    "merger.append(pdf2)\n"
   ]
  },
  {
   "cell_type": "code",
   "execution_count": 6,
   "metadata": {},
   "outputs": [],
   "source": [
    "merger.write('doc_concatenado.pdf')"
   ]
  },
  {
   "cell_type": "code",
   "execution_count": 1,
   "metadata": {},
   "outputs": [],
   "source": [
    "# We'll make use of the Retrieval Chain to retrieve the best response from the model and give context to the response\n",
    "\n",
    "# We'll read the pdf files and convert them to text\n",
    "from langchain_community.document_loaders import PyPDFLoader\n",
    "\n",
    "loader = PyPDFLoader(\"doc_concatenado.pdf\")\n",
    "pages = loader.load_and_split()"
   ]
  },
  {
   "cell_type": "code",
   "execution_count": 2,
   "metadata": {},
   "outputs": [],
   "source": [
    "# We'll use the OllamaEmbeddings class to embed the text\n",
    "from langchain_community.embeddings import OllamaEmbeddings\n",
    "\n",
    "# Create an instance of the OllamaEmbeddings class\n",
    "embeddings = OllamaEmbeddings()"
   ]
  },
  {
   "cell_type": "code",
   "execution_count": 3,
   "metadata": {},
   "outputs": [],
   "source": [
    "# This import is used to create a document from the text and embed it\n",
    "from langchain_community.vectorstores import FAISS\n",
    "# This import is used to split the text into documents\n",
    "from langchain.text_splitter import RecursiveCharacterTextSplitter\n",
    "\n",
    "# Create an instance of the RecursiveCharacterTextSplitter class\n",
    "text_splitter = RecursiveCharacterTextSplitter()\n",
    "# Split the text into documents\n",
    "documents = text_splitter.split_documents(pages)\n",
    "# Create a vector store from the documents and embeddings\n",
    "vector = FAISS.from_documents(documents, embeddings)"
   ]
  },
  {
   "cell_type": "code",
   "execution_count": 6,
   "metadata": {},
   "outputs": [],
   "source": [
    "# Suponiendo que 'vector' es tu vector store que quieres guardar\n",
    "# Obtener la ruta absoluta del directorio actual\n",
    "current_directory = os.path.abspath(os.getcwd())\n",
    "\n",
    "# Nombre del archivo en el que deseas guardar el vector store\n",
    "file_name = \"vector_concatenado.pkl\"\n",
    "\n",
    "# Ruta completa del archivo pickle\n",
    "file_path = os.path.join(current_directory, file_name)"
   ]
  },
  {
   "cell_type": "code",
   "execution_count": 7,
   "metadata": {},
   "outputs": [],
   "source": [
    "# Guarda el vector store en un archivo\n",
    "with open(file_path, 'wb') as file:\n",
    "    pickle.dump(vector, file)\n"
   ]
  },
  {
   "cell_type": "code",
   "execution_count": null,
   "metadata": {},
   "outputs": [],
   "source": []
  }
 ],
 "metadata": {
  "kernelspec": {
   "display_name": "Python 3",
   "language": "python",
   "name": "python3"
  },
  "language_info": {
   "codemirror_mode": {
    "name": "ipython",
    "version": 3
   },
   "file_extension": ".py",
   "mimetype": "text/x-python",
   "name": "python",
   "nbconvert_exporter": "python",
   "pygments_lexer": "ipython3",
   "version": "3.11.9"
  }
 },
 "nbformat": 4,
 "nbformat_minor": 2
}
