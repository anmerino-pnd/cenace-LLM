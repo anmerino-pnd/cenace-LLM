{
 "cells": [
  {
   "cell_type": "code",
   "execution_count": null,
   "id": "4e3682af-2802-43a3-b150-e19adf174da9",
   "metadata": {},
   "outputs": [],
   "source": [
    "from langchain_community.document_loaders import PyPDFLoader\n",
    "from langchain.text_splitter import CharacterTextSplitter\n",
    "from langchain_community.vectorstores.faiss import FAISS\n",
    "from langchain_community.llms import Ollama\n",
    "from langchain_community.embeddings import OllamaEmbeddings"
   ]
  },
  {
   "cell_type": "code",
   "execution_count": null,
   "id": "6ddb406a-b88f-4dc6-b941-446ea2b186f2",
   "metadata": {},
   "outputs": [],
   "source": [
    "import json\n",
    "import os\n",
    "import uuid\n",
    "import copy\n",
    "from pprint import pp\n",
    "import datetime"
   ]
  },
  {
   "cell_type": "code",
   "execution_count": null,
   "id": "250993cd-8882-477a-a468-39e77cad9f93",
   "metadata": {},
   "outputs": [],
   "source": [
    "def load_collections_from_disk(collections_path):\n",
    "    if not os.path.exists(collections_path):\n",
    "        with open(collections_path, \"w\") as fp:\n",
    "            json.dump({}, fp)\n",
    "    with open(collections_path, \"r\") as fp:\n",
    "        collections = json.load(fp)\n",
    "        for id, coll in collections.items():\n",
    "            for file in coll[\"files\"]:\n",
    "                file[\"last_modified\"] = datetime.datetime.fromisoformat(file[\"last_modified\"])\n",
    "        return collections\n",
    "\n",
    "def store_collections_to_disk(collections_path, collections):\n",
    "    collections = copy.deepcopy(collections)\n",
    "    for id, coll in collections.items():\n",
    "        for file in coll[\"files\"]:\n",
    "            file[\"last_modified\"] = file[\"last_modified\"].isoformat()\n",
    "    with open(collections_path, \"w\") as fp:\n",
    "        json.dump(collections, fp)\n",
    "\n",
    "FILE_ALREADY_EXISTS = \"file-exists\"\n",
    "\n",
    "def file_last_modified(path):\n",
    "    ts = os.path.getmtime(path)\n",
    "    dt = datetime.datetime.fromtimestamp(ts)\n",
    "    dtz = dt.astimezone()\n",
    "    return dtz.astimezone(datetime.timezone.utc)\n",
    "\n",
    "def file_size(path):\n",
    "    return os.stat(path).st_size\n",
    "\n",
    "def add_file_to_collection(collections, coll_id, path):\n",
    "    if coll_id not in collections:\n",
    "        raise ValueError(\"Collection ID does not exist\")\n",
    "    if not os.path.exists(path):\n",
    "        raise ValueError(\"File does not exist\")\n",
    "    spec_updated = False\n",
    "    with open(path, \"rb\") as new_fp:\n",
    "        new_bytes = new_fp.read()\n",
    "        for file in collections[coll_id][\"files\"]:\n",
    "            with open(file[\"path\"], \"rb\") as curr_fp:\n",
    "                if new_bytes == curr_fp.read():\n",
    "                    return FILE_ALREADY_EXISTS\n",
    "                if file[\"path\"] == path:\n",
    "                    spec_updated = True\n",
    "                    file[\"last_modified\"] = file_last_modified(path)\n",
    "                    file[\"size\"] = file_size(path)\n",
    "                    break\n",
    "    if not spec_updated:\n",
    "        collections[coll_id][\"files\"].append({\n",
    "            \"path\": path,\n",
    "            \"last_modified\": file_last_modified(path),\n",
    "            \"size\": file_size(path),\n",
    "        })\n",
    "    generate_embeddings(collections, coll_id)\n",
    "    return None\n",
    "\n",
    "def generate_embeddings(collections, coll_id):\n",
    "    embeddings_path = f\"./{coll_id}_embeddings\"\n",
    "    model = collections[coll_id][\"embeddings_model\"]\n",
    "    llm = OllamaEmbeddings(model=model)\n",
    "    coll_chunks = []\n",
    "    for file in collections[coll_id][\"files\"]:\n",
    "        path = file[\"path\"]\n",
    "        pdf_loader = PyPDFLoader(path)\n",
    "        chunks = pdf_loader.load_and_split()\n",
    "        coll_chunks.extend(chunks)\n",
    "    store = FAISS.from_documents(coll_chunks, llm)\n",
    "    store.save_local(embeddings_path)\n",
    "    collections[coll_id][\"embeddings\"] = embeddings_path\n",
    "    return None\n",
    "\n",
    "def create_collection(collections, name, description, embeddings_model):\n",
    "    identifier = str(uuid.uuid4())\n",
    "    collections[identifier] = {\n",
    "        \"name\": name,\n",
    "        \"description\": description,\n",
    "        \"files\": [],\n",
    "        \"embeddings\": None,\n",
    "        \"embeddings_model\": embeddings_model,\n",
    "    }\n",
    "    return None\n",
    "\n",
    "def load_collection(collections, coll_id):\n",
    "    path = collections[coll_id][\"embeddings\"]\n",
    "    if path is None:\n",
    "        return None\n",
    "    model = collections[coll_id][\"embeddings_model\"]\n",
    "    llm = OllamaEmbeddings(model=model)\n",
    "    store = FAISS.load_local(path, llm, allow_dangerous_deserialization=True)\n",
    "    return store"
   ]
  },
  {
   "cell_type": "code",
   "execution_count": null,
   "id": "fb8cfc94-6294-4f32-adf7-265c49da95a5",
   "metadata": {},
   "outputs": [],
   "source": [
    "cenace_colls_path = \"./cenace-collections.json\""
   ]
  },
  {
   "cell_type": "markdown",
   "id": "742db29e-ec57-4ca2-be67-f8ea280a9d9f",
   "metadata": {},
   "source": [
    "Crear un archivo de colecciones vacío."
   ]
  },
  {
   "cell_type": "code",
   "execution_count": null,
   "id": "8cef0e48-b521-4e88-b75e-9f992ee0f7d3",
   "metadata": {},
   "outputs": [],
   "source": [
    "store_collections_to_disk(\n",
    "    cenace_colls_path,\n",
    "    {},\n",
    ")"
   ]
  },
  {
   "cell_type": "markdown",
   "id": "a0bd8a80-3748-4b80-a88c-f5894d49d4a5",
   "metadata": {},
   "source": [
    "Cargar un archivo de colecciones."
   ]
  },
  {
   "cell_type": "code",
   "execution_count": null,
   "id": "5c52b5ae-eb8b-4eed-8a05-4c712265c11a",
   "metadata": {},
   "outputs": [],
   "source": [
    "collections = load_collections_from_disk(cenace_colls_path)"
   ]
  },
  {
   "cell_type": "code",
   "execution_count": null,
   "id": "78a3bc34-2189-40d3-a578-168426226043",
   "metadata": {},
   "outputs": [],
   "source": [
    "collections"
   ]
  },
  {
   "cell_type": "markdown",
   "id": "10582672-22f5-4ccd-8e8a-98dfa64e4532",
   "metadata": {},
   "source": [
    "Crear una nueva colección."
   ]
  },
  {
   "cell_type": "code",
   "execution_count": null,
   "id": "ab168534-4eba-4273-ad98-fe96423a030f",
   "metadata": {},
   "outputs": [],
   "source": [
    "create_collection(\n",
    "    collections,\n",
    "    \"LaTeX Prueba\",\n",
    "    \"Esta colección contiene dos archivos de LaTeX simples\",\n",
    "    \"nomic-embed-text:latest\",\n",
    ")"
   ]
  },
  {
   "cell_type": "code",
   "execution_count": null,
   "id": "b97e7d58-927a-4598-beb1-022f1b94e510",
   "metadata": {},
   "outputs": [],
   "source": [
    "pp(collections)"
   ]
  },
  {
   "cell_type": "markdown",
   "id": "3475cf6c-6cf2-46df-9d1a-9592dab1a176",
   "metadata": {},
   "source": [
    "Guardamos la especificación con la nueva colección."
   ]
  },
  {
   "cell_type": "code",
   "execution_count": null,
   "id": "dd2b6e57-9833-4a03-82df-ea1d3bae7c3a",
   "metadata": {},
   "outputs": [],
   "source": [
    "store_collections_to_disk(cenace_colls_path, collections)"
   ]
  },
  {
   "cell_type": "markdown",
   "id": "55805791-559a-4c82-b91f-7b0b4f11a56b",
   "metadata": {},
   "source": [
    "Agregamos un archivo a la colección."
   ]
  },
  {
   "cell_type": "code",
   "execution_count": null,
   "id": "b5c8fda1-f342-4b12-9e28-e1695c58d510",
   "metadata": {},
   "outputs": [],
   "source": [
    "add_file_to_collection(collections, \"cb4f9afa-53cd-4d60-97c7-c2da80524319\", \"./docs1/foo.pdf\")"
   ]
  },
  {
   "cell_type": "code",
   "execution_count": null,
   "id": "eab1ea39-b4fc-4a0a-9078-cdd56ebd0807",
   "metadata": {},
   "outputs": [],
   "source": [
    "collections"
   ]
  },
  {
   "cell_type": "markdown",
   "id": "e82227cd-2d34-45f9-ae85-82ecd0edd7ad",
   "metadata": {},
   "source": [
    "Guardamos la especificación con la colección modificada."
   ]
  },
  {
   "cell_type": "code",
   "execution_count": null,
   "id": "75671f02-9831-4f3d-8d65-a2775261df1f",
   "metadata": {},
   "outputs": [],
   "source": [
    "store_collections_to_disk(cenace_colls_path, collections)"
   ]
  },
  {
   "cell_type": "code",
   "execution_count": null,
   "id": "232ba1f9-f937-4c3e-989d-9dc9029edaa1",
   "metadata": {},
   "outputs": [],
   "source": [
    "collections = {}"
   ]
  },
  {
   "cell_type": "code",
   "execution_count": null,
   "id": "5e15dc29-17a7-49a6-b5ee-6bdca38a20cc",
   "metadata": {},
   "outputs": [],
   "source": [
    "collections = load_collections_from_disk(cenace_colls_path)"
   ]
  },
  {
   "cell_type": "code",
   "execution_count": null,
   "id": "d7879b6b-f7fe-410a-a347-ab0cc2641056",
   "metadata": {},
   "outputs": [],
   "source": [
    "collections"
   ]
  },
  {
   "cell_type": "code",
   "execution_count": null,
   "id": "337708f0-c5f0-4509-a58f-a084d6d430f0",
   "metadata": {},
   "outputs": [],
   "source": [
    "db = load_collection(collections, \"cb4f9afa-53cd-4d60-97c7-c2da80524319\")"
   ]
  },
  {
   "cell_type": "code",
   "execution_count": null,
   "id": "7821b942-7eaf-4459-8b4b-c3c705a9cf99",
   "metadata": {},
   "outputs": [],
   "source": [
    "db.similarity_search(\"cadena\")"
   ]
  },
  {
   "cell_type": "markdown",
   "id": "bbcc3111-a016-4f00-a854-b56f3d80401d",
   "metadata": {},
   "source": [
    "## A trabajar con los documentos del CENACE"
   ]
  },
  {
   "cell_type": "code",
   "execution_count": null,
   "id": "e8b3758f-fa23-41dc-aece-4ab784d14eab",
   "metadata": {},
   "outputs": [],
   "source": [
    "collections"
   ]
  },
  {
   "cell_type": "code",
   "execution_count": null,
   "id": "3e5732ae-8a21-4997-8e78-a8bf3f18558f",
   "metadata": {},
   "outputs": [],
   "source": [
    "create_collection(\n",
    "    collections, \n",
    "    \"CENACE demo\",\n",
    "    \"Colección con dos documentos para demostrar un RAG a CENACE\",\n",
    "    \"nomic-embed-text:latest\",\n",
    ")"
   ]
  },
  {
   "cell_type": "code",
   "execution_count": null,
   "id": "b5e2e5d9-1e36-4884-8d2c-36718d41f553",
   "metadata": {},
   "outputs": [],
   "source": [
    "pp(collections)"
   ]
  },
  {
   "cell_type": "code",
   "execution_count": null,
   "id": "02ddcdd5-4fa3-480c-a00f-81e9f2db10be",
   "metadata": {},
   "outputs": [],
   "source": [
    "add_file_to_collection(\n",
    "    collections,\n",
    "    \"244dec7f-90fb-4673-a69a-a7ca01e9ced1\",\n",
    "    \"../libretas/docs/PI_C37118_1.1.0.17.pdf\",\n",
    ")"
   ]
  },
  {
   "cell_type": "code",
   "execution_count": null,
   "id": "d7f45278-4d8e-4e6c-a166-f273dad52528",
   "metadata": {},
   "outputs": [],
   "source": [
    "pp(collections)"
   ]
  },
  {
   "cell_type": "code",
   "execution_count": null,
   "id": "506d6895-f9b7-4ef7-ae4a-8f87a251bf00",
   "metadata": {},
   "outputs": [],
   "source": [
    "store_collections_to_disk(cenace_colls_path, collections)"
   ]
  },
  {
   "cell_type": "code",
   "execution_count": null,
   "id": "91a5696b-e347-47d6-a852-e024e307b0c9",
   "metadata": {},
   "outputs": [],
   "source": [
    "add_file_to_collection(\n",
    "    collections,\n",
    "    \"d9abed2d-b75b-4074-a558-fbda61ef0840\",\n",
    "    \"../libretas/docs/PI-System-Explorer-2018-User-Guide_EN.pdf\",\n",
    ")"
   ]
  },
  {
   "cell_type": "code",
   "execution_count": null,
   "id": "59d63d92-11f7-4b9d-9eff-a06a89aa391e",
   "metadata": {},
   "outputs": [],
   "source": [
    "pp(collections)"
   ]
  },
  {
   "cell_type": "code",
   "execution_count": null,
   "id": "8e3eb89d-5e48-45cf-856e-cf3f4e97543b",
   "metadata": {},
   "outputs": [],
   "source": [
    "store_collections_to_disk(cenace_colls_path, collections)"
   ]
  },
  {
   "cell_type": "code",
   "execution_count": null,
   "id": "c882bb33-ebb5-46c0-bdc3-b63464248547",
   "metadata": {},
   "outputs": [],
   "source": [
    "db = load_collection(collections, \"d9abed2d-b75b-4074-a558-fbda61ef0840\")"
   ]
  },
  {
   "cell_type": "code",
   "execution_count": null,
   "id": "bda643b1-08be-4a2e-bc84-d4d7bb8a0c52",
   "metadata": {},
   "outputs": [],
   "source": [
    "pp(db.similarity_search(\"\"\"\n",
    "What are the principles of operation of The PI C37.118 interface?\n",
    "\"\"\"))"
   ]
  },
  {
   "cell_type": "markdown",
   "id": "815bc700-56d0-485c-bfef-09e5037e3810",
   "metadata": {},
   "source": [
    "# Borrador"
   ]
  },
  {
   "cell_type": "code",
   "execution_count": null,
   "id": "2f86a44d-9358-433d-82e1-16e26ba14f67",
   "metadata": {},
   "outputs": [],
   "source": [
    "docs1 = {\n",
    "    \"name\": \"Colección 1\",\n",
    "    \"files\": [\n",
    "        {\n",
    "            \"path\": \"./docs1/foo.pdf\",\n",
    "            \"last_modified\": datetime.datetime.fromtimestamp(os.path.getmtime(\"./docs1/foo.pdf\")),\n",
    "            \"size\": os.stat(\"./docs1/foo.pdf\").st_size,\n",
    "        }\n",
    "    ],\n",
    "    \"embeddings\": None,\n",
    "}"
   ]
  },
  {
   "cell_type": "code",
   "execution_count": null,
   "id": "7ed7c722-4da0-4815-bac3-0b0720947d6a",
   "metadata": {},
   "outputs": [],
   "source": [
    "path1 = \"./docs1/foo.pdf\""
   ]
  },
  {
   "cell_type": "code",
   "execution_count": null,
   "id": "c9b4b5f0-1efc-49dd-8954-46793f6790a5",
   "metadata": {},
   "outputs": [],
   "source": [
    "file1 = open(path1, \"rb\")"
   ]
  },
  {
   "cell_type": "code",
   "execution_count": null,
   "id": "616fb7b0-6a90-451e-a773-e2d59cae12e7",
   "metadata": {},
   "outputs": [],
   "source": [
    "bytes1 = file1.read()"
   ]
  },
  {
   "cell_type": "code",
   "execution_count": null,
   "id": "c3ec1cbb-c418-43bc-b762-ba2cc5d0e926",
   "metadata": {},
   "outputs": [],
   "source": [
    "file1.close()"
   ]
  },
  {
   "cell_type": "code",
   "execution_count": null,
   "id": "533cadb1-5995-472b-9270-0c78df2bf2f5",
   "metadata": {},
   "outputs": [],
   "source": [
    "len(bytes1)"
   ]
  },
  {
   "cell_type": "code",
   "execution_count": null,
   "id": "b36b68d2-0ef1-452c-b46f-f8c9de302d28",
   "metadata": {},
   "outputs": [],
   "source": [
    "b\"Hola, este es un archivo\" == bytes1"
   ]
  },
  {
   "cell_type": "code",
   "execution_count": null,
   "id": "330264ef-76ea-4f67-966f-19ef36a88df3",
   "metadata": {},
   "outputs": [],
   "source": [
    "path2 = \"./docs1/bar.pdf\"\n",
    "file2 = open(path2, \"rb\")\n",
    "bytes2 = file2.read()\n",
    "file2.close()"
   ]
  },
  {
   "cell_type": "code",
   "execution_count": null,
   "id": "046df0de-414b-46b6-9b6c-2f85cf4d075d",
   "metadata": {},
   "outputs": [],
   "source": [
    "bytes2 == bytes1"
   ]
  },
  {
   "cell_type": "code",
   "execution_count": null,
   "id": "83afd520-d6b0-45c4-8dee-d77966955831",
   "metadata": {},
   "outputs": [],
   "source": [
    "import os\n",
    "import datetime"
   ]
  },
  {
   "cell_type": "code",
   "execution_count": null,
   "id": "d3318244-9e12-4363-88f7-8b702e4e1363",
   "metadata": {},
   "outputs": [],
   "source": [
    "datetime.datetime.fromtimestamp(os.path.getmtime(path1))"
   ]
  },
  {
   "cell_type": "code",
   "execution_count": null,
   "id": "e7dedd32-a72d-48e0-856a-63602d478813",
   "metadata": {},
   "outputs": [],
   "source": [
    "dt = datetime.datetime.fromtimestamp(os.path.getmtime(path2))"
   ]
  },
  {
   "cell_type": "code",
   "execution_count": null,
   "id": "9bef5738-025c-4b2a-bab9-a3f337413bd6",
   "metadata": {},
   "outputs": [],
   "source": [
    "dt = dt.astimezone().astimezone(datetime.timezone.utc)"
   ]
  },
  {
   "cell_type": "code",
   "execution_count": null,
   "id": "26df95e0-00b6-48f3-be23-c5921d49e968",
   "metadata": {},
   "outputs": [],
   "source": [
    "dt.isoformat()"
   ]
  },
  {
   "cell_type": "code",
   "execution_count": null,
   "id": "c6890594-1505-4496-acb1-657f58283be3",
   "metadata": {},
   "outputs": [],
   "source": [
    "datetime.datetime.fromisoformat('2024-04-19T01:36:54.744574+00:00')"
   ]
  },
  {
   "cell_type": "code",
   "execution_count": null,
   "id": "bc0324ab-b6df-41e1-9f99-86100f86feea",
   "metadata": {},
   "outputs": [],
   "source": [
    "os.stat(path1).st_size"
   ]
  },
  {
   "cell_type": "code",
   "execution_count": null,
   "id": "010e2561-3a4a-48cf-937d-bbfe4dafe39d",
   "metadata": {},
   "outputs": [],
   "source": [
    "45948 / 1000"
   ]
  }
 ],
 "metadata": {
  "kernelspec": {
   "display_name": "Python 3 (ipykernel)",
   "language": "python",
   "name": "python3"
  },
  "language_info": {
   "codemirror_mode": {
    "name": "ipython",
    "version": 3
   },
   "file_extension": ".py",
   "mimetype": "text/x-python",
   "name": "python",
   "nbconvert_exporter": "python",
   "pygments_lexer": "ipython3",
   "version": "3.11.8"
  }
 },
 "nbformat": 4,
 "nbformat_minor": 5
}
